{
 "cells": [
  {
   "cell_type": "code",
   "execution_count": 4,
   "metadata": {},
   "outputs": [],
   "source": [
    "toto = [3, 7, 9, 1, 0, 8, 8, 8]\n",
    "titi = [9, False, 8.34, True, 22, 1e-3, 'a', -1]\n",
    "tutu = [[0,1], ['a', 'b', 'c'], 78.5]\n",
    "vecteur = [0]*100\n",
    "lv = []"
   ]
  },
  {
   "cell_type": "code",
   "execution_count": 5,
   "metadata": {},
   "outputs": [
    {
     "name": "stdout",
     "output_type": "stream",
     "text": [
      "44\n"
     ]
    }
   ],
   "source": [
    "# Exercice : calculer la somme des entiers de la liste toto en utilisant une boucle\n",
    "print(sum(toto))"
   ]
  },
  {
   "cell_type": "code",
   "execution_count": 6,
   "metadata": {},
   "outputs": [
    {
     "name": "stdout",
     "output_type": "stream",
     "text": [
      "La somme vaut 44\n"
     ]
    }
   ],
   "source": [
    "somme = 0\n",
    "for elt in toto:\n",
    "    somme = somme + elt\n",
    "print(\"La somme vaut %d\" % somme)"
   ]
  },
  {
   "cell_type": "code",
   "execution_count": 7,
   "metadata": {},
   "outputs": [
    {
     "name": "stdout",
     "output_type": "stream",
     "text": [
      "44\n"
     ]
    }
   ],
   "source": [
    "def exo1():\n",
    "  c = 0\n",
    "  for i in toto:\n",
    "    c += i\n",
    "  print(c)\n",
    "exo1()"
   ]
  },
  {
   "cell_type": "code",
   "execution_count": 13,
   "metadata": {},
   "outputs": [
    {
     "name": "stdout",
     "output_type": "stream",
     "text": [
      "5 + 6 = 11\n",
      "5 + 6 = 11\n",
      "5 + 6 = 11\n"
     ]
    }
   ],
   "source": [
    "x = \"%d + %d = %d\" % (5,6,5+6)\n",
    "print(x)\n",
    "print(\"5\",\"+\",\"6\",\"=\",5+6)\n",
    "print(\"{} + {} = {}\".format(5,6,5+6))"
   ]
  },
  {
   "cell_type": "code",
   "execution_count": 2,
   "metadata": {},
   "outputs": [],
   "source": [
    "# Exercice : Faire une fonction qui prend en entrée une liste d'entiers et affiche la valeur minimale de la liste"
   ]
  },
  {
   "cell_type": "code",
   "execution_count": 14,
   "metadata": {},
   "outputs": [
    {
     "name": "stdout",
     "output_type": "stream",
     "text": [
      "0\n"
     ]
    }
   ],
   "source": [
    "# Pour contrôle: fonction min()\n",
    "print(min(toto))"
   ]
  },
  {
   "cell_type": "code",
   "execution_count": null,
   "metadata": {},
   "outputs": [],
   "source": [
    "# Exercice : Remplacer tous les éléments de la liste vecteur par l'entier correspondant à leur indice"
   ]
  }
 ],
 "metadata": {
  "kernelspec": {
   "display_name": "Python 3",
   "language": "python",
   "name": "python3"
  },
  "language_info": {
   "codemirror_mode": {
    "name": "ipython",
    "version": 3
   },
   "file_extension": ".py",
   "mimetype": "text/x-python",
   "name": "python",
   "nbconvert_exporter": "python",
   "pygments_lexer": "ipython3",
   "version": "3.8.6"
  }
 },
 "nbformat": 4,
 "nbformat_minor": 4
}
