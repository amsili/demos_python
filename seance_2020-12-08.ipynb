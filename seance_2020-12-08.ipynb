{
 "cells": [
  {
   "cell_type": "markdown",
   "metadata": {},
   "source": [
    "* fonctions (valeur de retour)\n",
    "* fonctions prédéfinies (pour les listes)\n",
    "* fonctions prédéfinies (pour les str)"
   ]
  },
  {
   "cell_type": "markdown",
   "metadata": {},
   "source": [
    "Définitions de quelques variables pour faciliter les manipulations ultérieures"
   ]
  },
  {
   "cell_type": "code",
   "execution_count": 1,
   "metadata": {},
   "outputs": [],
   "source": [
    "toto = [3, 7, 9, 1, 0, 8, 8, 8]\n",
    "titi = [9, False, 8.34, True, 22, 1e-3, 'a', -1]\n",
    "tutu = [[0,1], ['a', 'b', 'c'], 78.5]\n",
    "vecteur = [0]*100\n",
    "lv = []\n",
    "roman = ['Nous', 'étions', 'à', 'l’Étude,', 'quand', 'le', 'Proviseur', 'entra,',\n",
    "         'suivi', 'd’un', 'nouveau', 'habillé', 'en', 'bourgeois', 'et', 'd’un',\n",
    "         'garçon', 'de', 'classe', 'qui', 'portait', 'un', 'grand', 'pupitre.',\n",
    "         'Ceux', 'qui', 'dormaient', 'se', 'réveillèrent,', 'et', 'chacun', 'se',\n",
    "         'leva', 'comme', 'surpris', 'dans', 'son', 'travail.']"
   ]
  },
  {
   "cell_type": "code",
   "execution_count": 4,
   "metadata": {},
   "outputs": [
    {
     "name": "stdout",
     "output_type": "stream",
     "text": [
      "Bonjour\n",
      "Il fait beau depuis 4 jours\n"
     ]
    }
   ],
   "source": [
    "def affichage(n):\n",
    "    print(\"Bonjour\")\n",
    "    print(\"Il fait beau depuis %d jours\"% n)\n",
    "\n",
    "affichage(4)"
   ]
  },
  {
   "cell_type": "code",
   "execution_count": 6,
   "metadata": {},
   "outputs": [
    {
     "name": "stdout",
     "output_type": "stream",
     "text": [
      "20\n"
     ]
    }
   ],
   "source": [
    "f = sum([3,8,9])\n",
    "print(f)"
   ]
  },
  {
   "cell_type": "code",
   "execution_count": 8,
   "metadata": {},
   "outputs": [
    {
     "name": "stdout",
     "output_type": "stream",
     "text": [
      "0.9999999999999989\n"
     ]
    }
   ],
   "source": [
    "import math\n",
    "y = math.cos(2*3.14159263)\n",
    "print(y)"
   ]
  },
  {
   "cell_type": "code",
   "execution_count": 9,
   "metadata": {},
   "outputs": [
    {
     "name": "stdout",
     "output_type": "stream",
     "text": [
      "0.9999999999999989\n"
     ]
    }
   ],
   "source": [
    "from math import cos\n",
    "y = cos(2*3.14159263)\n",
    "print(y)"
   ]
  },
  {
   "cell_type": "code",
   "execution_count": 10,
   "metadata": {},
   "outputs": [],
   "source": [
    "def farenheit(t):\n",
    "    f = (9./5 * t) + 32\n",
    "    return f"
   ]
  },
  {
   "cell_type": "code",
   "execution_count": 11,
   "metadata": {},
   "outputs": [
    {
     "name": "stdout",
     "output_type": "stream",
     "text": [
      "99.5\n"
     ]
    }
   ],
   "source": [
    "x = farenheit(37.5)\n",
    "print(x)"
   ]
  },
  {
   "cell_type": "code",
   "execution_count": null,
   "metadata": {},
   "outputs": [],
   "source": []
  }
 ],
 "metadata": {
  "kernelspec": {
   "display_name": "Python 3",
   "language": "python",
   "name": "python3"
  },
  "language_info": {
   "codemirror_mode": {
    "name": "ipython",
    "version": 3
   },
   "file_extension": ".py",
   "mimetype": "text/x-python",
   "name": "python",
   "nbconvert_exporter": "python",
   "pygments_lexer": "ipython3",
   "version": "3.8.6"
  }
 },
 "nbformat": 4,
 "nbformat_minor": 4
}
