{
 "cells": [
  {
   "cell_type": "markdown",
   "metadata": {},
   "source": [
    "* fonctions (valeur de retour)\n",
    "* fonctions prédéfinies (pour les listes)\n",
    "* fonctions prédéfinies (pour les str)"
   ]
  },
  {
   "cell_type": "markdown",
   "metadata": {},
   "source": [
    "Définitions de quelques variables pour faciliter les manipulations ultérieures"
   ]
  },
  {
   "cell_type": "code",
   "execution_count": 1,
   "metadata": {},
   "outputs": [],
   "source": [
    "toto = [3, 7, 9, 1, 0, 8, 8, 8]\n",
    "titi = [9, False, 8.34, True, 22, 1e-3, 'a', -1]\n",
    "tutu = [[0,1], ['a', 'b', 'c'], 78.5]\n",
    "vecteur = [0]*100\n",
    "lv = []\n",
    "roman = ['Nous', 'étions', 'à', 'l’Étude,', 'quand', 'le', 'Proviseur', 'entra,',\n",
    "         'suivi', 'd’un', 'nouveau', 'habillé', 'en', 'bourgeois', 'et', 'd’un',\n",
    "         'garçon', 'de', 'classe', 'qui', 'portait', 'un', 'grand', 'pupitre.',\n",
    "         'Ceux', 'qui', 'dormaient', 'se', 'réveillèrent,', 'et', 'chacun', 'se',\n",
    "         'leva', 'comme', 'surpris', 'dans', 'son', 'travail.']"
   ]
  },
  {
   "cell_type": "code",
   "execution_count": 4,
   "metadata": {},
   "outputs": [
    {
     "name": "stdout",
     "output_type": "stream",
     "text": [
      "Bonjour\n",
      "Il fait beau depuis 4 jours\n"
     ]
    }
   ],
   "source": [
    "def affichage(n):\n",
    "    print(\"Bonjour\")\n",
    "    print(\"Il fait beau depuis %d jours\"% n)\n",
    "\n",
    "affichage(4)"
   ]
  },
  {
   "cell_type": "code",
   "execution_count": 6,
   "metadata": {},
   "outputs": [
    {
     "name": "stdout",
     "output_type": "stream",
     "text": [
      "20\n"
     ]
    }
   ],
   "source": [
    "f = sum([3,8,9])\n",
    "print(f)"
   ]
  },
  {
   "cell_type": "code",
   "execution_count": 8,
   "metadata": {},
   "outputs": [
    {
     "name": "stdout",
     "output_type": "stream",
     "text": [
      "0.9999999999999989\n"
     ]
    }
   ],
   "source": [
    "import math\n",
    "y = math.cos(2*3.14159263)\n",
    "print(y)"
   ]
  },
  {
   "cell_type": "code",
   "execution_count": 9,
   "metadata": {},
   "outputs": [
    {
     "name": "stdout",
     "output_type": "stream",
     "text": [
      "0.9999999999999989\n"
     ]
    }
   ],
   "source": [
    "from math import cos\n",
    "y = cos(2*3.14159263)\n",
    "print(y)"
   ]
  },
  {
   "cell_type": "code",
   "execution_count": 10,
   "metadata": {},
   "outputs": [],
   "source": [
    "def farenheit(t):\n",
    "    f = (9./5 * t) + 32\n",
    "    return f\n",
    "def farenheit(t):\n",
    "    return (9./5 * t) + 32"
   ]
  },
  {
   "cell_type": "code",
   "execution_count": 16,
   "metadata": {},
   "outputs": [],
   "source": [
    "x = farenheit(37.5)\n",
    "#print(x)"
   ]
  },
  {
   "cell_type": "code",
   "execution_count": 12,
   "metadata": {},
   "outputs": [],
   "source": [
    "def farenheit_p(t):\n",
    "    f = (9./5 * t) + 32\n",
    "    print(f)\n",
    "    return None"
   ]
  },
  {
   "cell_type": "code",
   "execution_count": 17,
   "metadata": {},
   "outputs": [
    {
     "name": "stdout",
     "output_type": "stream",
     "text": [
      "99.5\n"
     ]
    }
   ],
   "source": [
    "x = farenheit_p(37.5)\n",
    "#print(x)"
   ]
  },
  {
   "cell_type": "code",
   "execution_count": 15,
   "metadata": {},
   "outputs": [
    {
     "name": "stdout",
     "output_type": "stream",
     "text": [
      "100.4\n"
     ]
    }
   ],
   "source": [
    "farenheit_p(38)"
   ]
  },
  {
   "cell_type": "code",
   "execution_count": 18,
   "metadata": {},
   "outputs": [],
   "source": [
    "# Programme qui demande une température à l'utilisation, la convertit et l'affiche"
   ]
  },
  {
   "cell_type": "code",
   "execution_count": 19,
   "metadata": {},
   "outputs": [
    {
     "name": "stdout",
     "output_type": "stream",
     "text": [
      "Donnez une température 27\n",
      "Température convertie : 80.600000\n"
     ]
    }
   ],
   "source": [
    "t = float(input(\"Donnez une température \"))\n",
    "f = (9./5 * t) + 32\n",
    "print(\"Température convertie : %f\" % f)"
   ]
  },
  {
   "cell_type": "code",
   "execution_count": 20,
   "metadata": {},
   "outputs": [],
   "source": [
    "def conversion_i():\n",
    "    t = float(input(\"Donnez une température \"))\n",
    "    f = (9./5 * t) + 32\n",
    "    print(\"Température convertie : %f\" % f)"
   ]
  },
  {
   "cell_type": "code",
   "execution_count": 22,
   "metadata": {},
   "outputs": [
    {
     "name": "stdout",
     "output_type": "stream",
     "text": [
      "Donnez une température 29\n",
      "Température convertie : 84.200000\n"
     ]
    }
   ],
   "source": [
    "conversion_i()"
   ]
  },
  {
   "cell_type": "code",
   "execution_count": 23,
   "metadata": {},
   "outputs": [],
   "source": [
    "def conversion_i():\n",
    "    t = float(input(\"Donnez une température \"))\n",
    "    f = farenheit(t)\n",
    "    print(\"Température convertie : %f\" % f)"
   ]
  },
  {
   "cell_type": "code",
   "execution_count": 24,
   "metadata": {},
   "outputs": [
    {
     "name": "stdout",
     "output_type": "stream",
     "text": [
      "Donnez une température 15\n",
      "Température convertie : 59.000000\n"
     ]
    }
   ],
   "source": [
    "conversion_i()"
   ]
  },
  {
   "cell_type": "code",
   "execution_count": 25,
   "metadata": {},
   "outputs": [],
   "source": [
    "def conversion_i():\n",
    "    f = farenheit(float(input(\"Donnez une température \")))\n",
    "    print(\"Température convertie : %f\" % f)"
   ]
  },
  {
   "cell_type": "code",
   "execution_count": 26,
   "metadata": {},
   "outputs": [
    {
     "name": "stdout",
     "output_type": "stream",
     "text": [
      "Donnez une température 85\n",
      "Température convertie : 185.000000\n"
     ]
    }
   ],
   "source": [
    "conversion_i()"
   ]
  },
  {
   "cell_type": "code",
   "execution_count": 27,
   "metadata": {},
   "outputs": [
    {
     "name": "stdout",
     "output_type": "stream",
     "text": [
      "Donnez une température 76\n",
      "Température convertie : 168.800000\n"
     ]
    }
   ],
   "source": [
    "print(\"Température convertie : %f\" % farenheit(float(input(\"Donnez une température \"))))"
   ]
  },
  {
   "cell_type": "code",
   "execution_count": 28,
   "metadata": {},
   "outputs": [],
   "source": [
    "def appartient(x,l):\n",
    "    for elt in l:\n",
    "        if elt == x:\n",
    "            return True\n",
    "    return False"
   ]
  },
  {
   "cell_type": "code",
   "execution_count": 30,
   "metadata": {},
   "outputs": [
    {
     "name": "stdout",
     "output_type": "stream",
     "text": [
      "trouvé\n"
     ]
    }
   ],
   "source": [
    "if appartient(2,[2,4,6]):\n",
    "    print(\"trouvé\")\n",
    "else:\n",
    "    print(\"non trouvé\")"
   ]
  },
  {
   "cell_type": "code",
   "execution_count": null,
   "metadata": {},
   "outputs": [],
   "source": [
    "# Exercice "
   ]
  }
 ],
 "metadata": {
  "kernelspec": {
   "display_name": "Python 3",
   "language": "python",
   "name": "python3"
  },
  "language_info": {
   "codemirror_mode": {
    "name": "ipython",
    "version": 3
   },
   "file_extension": ".py",
   "mimetype": "text/x-python",
   "name": "python",
   "nbconvert_exporter": "python",
   "pygments_lexer": "ipython3",
   "version": "3.8.6"
  }
 },
 "nbformat": 4,
 "nbformat_minor": 4
}
