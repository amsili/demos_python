{
 "cells": [
  {
   "cell_type": "markdown",
   "metadata": {},
   "source": [
    "Définitions de quelques variables pour faciliter les manipulations ultérieures"
   ]
  },
  {
   "cell_type": "code",
   "execution_count": 11,
   "metadata": {},
   "outputs": [],
   "source": [
    "toto = [3, 7, 9, 1, 0, 8, 8, 8]\n",
    "titi = [9, False, 8.34, True, 22, 1e-3, 'a', -1]\n",
    "tutu = [[0,1], ['a', 'b', 'c'], 78.5]\n",
    "vecteur = [0]*100\n",
    "lv = []\n",
    "roman = ['Nous', 'étions', 'à', 'l’Étude,', 'quand', 'le', 'Proviseur', 'entra,',\n",
    "         'suivi', 'd’un', 'nouveau', 'habillé', 'en', 'bourgeois', 'et', 'd’un',\n",
    "         'garçon', 'de', 'classe', 'qui', 'portait', 'un', 'grand', 'pupitre.',\n",
    "         'Ceux', 'qui', 'dormaient', 'se', 'réveillèrent,', 'et', 'chacun', 'se',\n",
    "         'leva', 'comme', 'surpris', 'dans', 'son', 'travail.']"
   ]
  }
 ],
 "metadata": {
  "kernelspec": {
   "display_name": "Python 3",
   "language": "python",
   "name": "python3"
  },
  "language_info": {
   "codemirror_mode": {
    "name": "ipython",
    "version": 3
   },
   "file_extension": ".py",
   "mimetype": "text/x-python",
   "name": "python",
   "nbconvert_exporter": "python",
   "pygments_lexer": "ipython3",
   "version": "3.8.6"
  }
 },
 "nbformat": 4,
 "nbformat_minor": 4
}
