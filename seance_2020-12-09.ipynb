{
 "cells": [
  {
   "cell_type": "code",
   "execution_count": 6,
   "metadata": {},
   "outputs": [],
   "source": [
    "# Exercice: fonction qui AFFICHE le nombre d'occurrences de 'e' dans une chaîne de caractères.\n",
    "def affiche_nb_e(chaine):\n",
    "    c = 0\n",
    "    for let in chaine:\n",
    "        if let == 'e':\n",
    "            c += 1\n",
    "    print(\"La chaîne /%s/ contient %d occurrences de la lettre e.\" % (chaine,c))"
   ]
  },
  {
   "cell_type": "code",
   "execution_count": 7,
   "metadata": {},
   "outputs": [
    {
     "name": "stdout",
     "output_type": "stream",
     "text": [
      "La chaîne /Mon beau navire/ contient 2 occurrences de la lettre e.\n",
      "La chaîne /La disparition/ contient 0 occurrences de la lettre e.\n"
     ]
    }
   ],
   "source": [
    "# Exemples d'utilisation de la fonction\n",
    "affiche_nb_e(\"Mon beau navire\")\n",
    "affiche_nb_e(\"La disparition\")"
   ]
  },
  {
   "cell_type": "code",
   "execution_count": 9,
   "metadata": {},
   "outputs": [],
   "source": [
    "# Exercice: fonction qui RENVOIE le nombre d'occurrences de 'e' dans une chaîne de caractères.\n",
    "def compte_nb_e(chaine):\n",
    "    c = 0\n",
    "    for let in chaine:\n",
    "        if let == 'e':\n",
    "            c += 1\n",
    "    return c"
   ]
  },
  {
   "cell_type": "code",
   "execution_count": 11,
   "metadata": {},
   "outputs": [
    {
     "name": "stdout",
     "output_type": "stream",
     "text": [
      "3\n",
      "0\n"
     ]
    }
   ],
   "source": [
    "# Exemples d'utilisation:\n",
    "x = compte_nb_e(\"Le petit chat est mort\")\n",
    "print(x)\n",
    "print(compte_nb_e(\"maison d'art\"))"
   ]
  },
  {
   "cell_type": "code",
   "execution_count": 13,
   "metadata": {},
   "outputs": [],
   "source": [
    "# Exercice: fonction qui prend deux paramètres: une lettre, et une chaîne de caratères, \n",
    "# et renvoie le nombre d'occurrences de la lettre dans la chaîne\n",
    "def compte_lettres(lettre,chaine):\n",
    "    c = 0\n",
    "    for let in chaine:\n",
    "        if let == lettre:\n",
    "            c += 1\n",
    "    return c"
   ]
  },
  {
   "cell_type": "code",
   "execution_count": 18,
   "metadata": {},
   "outputs": [
    {
     "name": "stdout",
     "output_type": "stream",
     "text": [
      "5\n",
      "0\n",
      "Donnez un mot anticonstitutionnellement\n",
      "Vous préférez les e ?\n"
     ]
    }
   ],
   "source": [
    "# Exemples d'utilisation:\n",
    "x = compte_lettres('t', \"Le petit chat est mort\")\n",
    "print(x)\n",
    "print(compte_lettres('e', \"maison d'art\"))\n",
    "mot = input(\"Donnez un mot \")\n",
    "if compte_lettres('a', mot) <= compte_lettres('e', mot):\n",
    "    print(\"Vous préférez les e ?\")\n",
    "else:\n",
    "    print(\"On dirait que vous préférez les a aux e\")"
   ]
  }
 ],
 "metadata": {
  "kernelspec": {
   "display_name": "Python 3",
   "language": "python",
   "name": "python3"
  },
  "language_info": {
   "codemirror_mode": {
    "name": "ipython",
    "version": 3
   },
   "file_extension": ".py",
   "mimetype": "text/x-python",
   "name": "python",
   "nbconvert_exporter": "python",
   "pygments_lexer": "ipython3",
   "version": "3.8.6"
  }
 },
 "nbformat": 4,
 "nbformat_minor": 4
}
