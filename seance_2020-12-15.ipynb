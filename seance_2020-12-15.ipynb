{
 "cells": [
  {
   "cell_type": "markdown",
   "metadata": {},
   "source": [
    "Programme séance du 15 décembre: \n",
    "\n",
    "* Exercices chaînes \n",
    "* Manipulation de fichiers texte\n",
    "* Exercices "
   ]
  },
  {
   "cell_type": "code",
   "execution_count": null,
   "metadata": {},
   "outputs": [],
   "source": [
    "# Fonctions prédéfinies pour chaînes de caractères: split(), strip(), join()"
   ]
  },
  {
   "cell_type": "code",
   "execution_count": 3,
   "metadata": {},
   "outputs": [
    {
     "name": "stdout",
     "output_type": "stream",
     "text": [
      "maison\n",
      "['m', 'a', 'i', 's', 'o', 'n']\n"
     ]
    }
   ],
   "source": [
    "t = \"maison\"\n",
    "tl = list(t)\n",
    "print(t)\n",
    "print(tl)"
   ]
  },
  {
   "cell_type": "code",
   "execution_count": 4,
   "metadata": {},
   "outputs": [
    {
     "name": "stdout",
     "output_type": "stream",
     "text": [
      "maison\n"
     ]
    }
   ],
   "source": [
    "news = \"\"\n",
    "for lettre in tl:\n",
    "    news += lettre\n",
    "print(news)"
   ]
  },
  {
   "cell_type": "code",
   "execution_count": 5,
   "metadata": {},
   "outputs": [
    {
     "name": "stdout",
     "output_type": "stream",
     "text": [
      "m*a*i*s*o*n\n"
     ]
    }
   ],
   "source": [
    "x = \"*\".join(tl)\n",
    "print(x)"
   ]
  },
  {
   "cell_type": "code",
   "execution_count": 6,
   "metadata": {},
   "outputs": [
    {
     "name": "stdout",
     "output_type": "stream",
     "text": [
      "maison\n"
     ]
    }
   ],
   "source": [
    "y = \"\".join(tl)\n",
    "print(y)"
   ]
  },
  {
   "cell_type": "code",
   "execution_count": 7,
   "metadata": {},
   "outputs": [
    {
     "name": "stdout",
     "output_type": "stream",
     "text": [
      "['voy', 'ge']\n"
     ]
    }
   ],
   "source": [
    "z = \"voyage\".split('a')\n",
    "print(z)"
   ]
  },
  {
   "cell_type": "code",
   "execution_count": 11,
   "metadata": {},
   "outputs": [
    {
     "name": "stdout",
     "output_type": "stream",
     "text": [
      "['la tribu prophétique ', 'x prunelles ardentes']\n"
     ]
    }
   ],
   "source": [
    "b = \"la tribu prophétique aux prunelles ardentes\"\n",
    "bl = b.split('au')\n",
    "print(bl)"
   ]
  },
  {
   "cell_type": "code",
   "execution_count": 16,
   "metadata": {},
   "outputs": [
    {
     "name": "stdout",
     "output_type": "stream",
     "text": [
      " tribu prophétique aux prunelles ardentes\n"
     ]
    }
   ],
   "source": [
    "a = b.strip('la')\n",
    "print(a)"
   ]
  },
  {
   "cell_type": "code",
   "execution_count": 17,
   "metadata": {},
   "outputs": [],
   "source": [
    "# Exercice : Soit la chaine t ci-dessous. \n",
    "# Donner la liste des caractères qui la composent, et la liste des mots qui la composent ; \n",
    "# puis triez ces listes\n",
    "t = \"je suis un cimetière abhoré de la lune\""
   ]
  },
  {
   "cell_type": "code",
   "execution_count": 19,
   "metadata": {},
   "outputs": [
    {
     "name": "stdout",
     "output_type": "stream",
     "text": [
      "['j', 'e', ' ', 's', 'u', 'i', 's', ' ', 'u', 'n', ' ', 'c', 'i', 'm', 'e', 't', 'i', 'è', 'r', 'e', ' ', 'a', 'b', 'h', 'o', 'r', 'é', ' ', 'd', 'e', ' ', 'l', 'a', ' ', 'l', 'u', 'n', 'e']\n"
     ]
    }
   ],
   "source": [
    "y = list(t)\n",
    "print(y)"
   ]
  },
  {
   "cell_type": "code",
   "execution_count": 20,
   "metadata": {},
   "outputs": [
    {
     "name": "stdout",
     "output_type": "stream",
     "text": [
      "['j', 'e', ' ', 's', 'u', 'i', 's', ' ', 'u', 'n', ' ', 'c', 'i', 'm', 'e', 't', 'i', 'è', 'r', 'e', ' ', 'a', 'b', 'h', 'o', 'r', 'é', ' ', 'd', 'e', ' ', 'l', 'a', ' ', 'l', 'u', 'n', 'e']\n"
     ]
    }
   ],
   "source": [
    "z = []\n",
    "for let in t:\n",
    "    z.append(let)\n",
    "print(z)"
   ]
  },
  {
   "cell_type": "code",
   "execution_count": 22,
   "metadata": {},
   "outputs": [
    {
     "name": "stdout",
     "output_type": "stream",
     "text": [
      "['je', 'suis', 'un', 'cimetière', 'abhoré', 'de', 'la', 'lune']\n",
      "je suis un cimetière abhoré de la lune\n"
     ]
    }
   ],
   "source": [
    "a = t.split()\n",
    "print(a)\n",
    "print(t)"
   ]
  },
  {
   "cell_type": "code",
   "execution_count": 24,
   "metadata": {},
   "outputs": [
    {
     "name": "stdout",
     "output_type": "stream",
     "text": [
      "[' ', ' ', ' ', ' ', ' ', ' ', ' ', 'a', 'a', 'b', 'c', 'd', 'e', 'e', 'e', 'e', 'e', 'h', 'i', 'i', 'i', 'j', 'l', 'l', 'm', 'n', 'n', 'o', 'r', 'r', 's', 's', 't', 'u', 'u', 'u', 'è', 'é']\n"
     ]
    }
   ],
   "source": [
    "y.sort()\n",
    "print(y)"
   ]
  },
  {
   "cell_type": "code",
   "execution_count": 26,
   "metadata": {},
   "outputs": [
    {
     "name": "stdout",
     "output_type": "stream",
     "text": [
      "None\n"
     ]
    }
   ],
   "source": [
    "x = y.sort()\n",
    "print(x)"
   ]
  },
  {
   "cell_type": "code",
   "execution_count": null,
   "metadata": {},
   "outputs": [],
   "source": [
    "# Etant donné une lettre et une liste de mots, donnez le nombre de mots qui contiennent cette lettre.\n",
    "# Faire une fonction correctement paramétrée (et avec utilisation de return)"
   ]
  },
  {
   "cell_type": "code",
   "execution_count": 28,
   "metadata": {},
   "outputs": [
    {
     "name": "stdout",
     "output_type": "stream",
     "text": [
      "False\n",
      "True\n"
     ]
    }
   ],
   "source": [
    "def contient(lettre, mot):\n",
    "    return lettre in mot\n",
    "print(contient('e','maison'))\n",
    "print(contient('i','maison'))"
   ]
  },
  {
   "cell_type": "code",
   "execution_count": 30,
   "metadata": {},
   "outputs": [
    {
     "name": "stdout",
     "output_type": "stream",
     "text": [
      "['je', 'suis', 'un', 'cimetière', 'abhoré', 'de', 'la', 'lune']\n",
      "4\n"
     ]
    }
   ],
   "source": [
    "print(a)\n",
    "c = 0\n",
    "for mot in a:\n",
    "    if contient('e',mot):\n",
    "        c += 1\n",
    "print(c)"
   ]
  },
  {
   "cell_type": "code",
   "execution_count": 31,
   "metadata": {},
   "outputs": [],
   "source": [
    "def nb_mots_lettre(listem, lettre):\n",
    "    c = 0\n",
    "    for mot in listem:\n",
    "        if contient(lettre, mot):\n",
    "            c += 1\n",
    "    return c"
   ]
  },
  {
   "cell_type": "code",
   "execution_count": 33,
   "metadata": {},
   "outputs": [
    {
     "name": "stdout",
     "output_type": "stream",
     "text": [
      "2\n"
     ]
    }
   ],
   "source": [
    "print(nb_mots_lettre(a, 'i'))"
   ]
  },
  {
   "cell_type": "code",
   "execution_count": 34,
   "metadata": {},
   "outputs": [],
   "source": [
    "f = open(\"demo-file-latin.txt\", \"r\")\n",
    "text = f.read()\n",
    "f.close()"
   ]
  },
  {
   "cell_type": "code",
   "execution_count": 35,
   "metadata": {},
   "outputs": [
    {
     "name": "stdout",
     "output_type": "stream",
     "text": [
      "<class 'str'>\n"
     ]
    }
   ],
   "source": [
    "print(type(text))"
   ]
  },
  {
   "cell_type": "code",
   "execution_count": 36,
   "metadata": {},
   "outputs": [
    {
     "name": "stdout",
     "output_type": "stream",
     "text": [
      "497719\n"
     ]
    }
   ],
   "source": [
    "print(len(text))"
   ]
  },
  {
   "cell_type": "code",
   "execution_count": 37,
   "metadata": {},
   "outputs": [
    {
     "name": "stdout",
     "output_type": "stream",
     "text": [
      "JULES VERNE\t\n",
      "\n",
      "CINQ SEMAINES EN BALLON\n",
      "\n",
      "VOYAGE DE DÉCOUVERTES EN AFRIQUE PAR 3 ANGLAIS\n",
      "\n",
      "\n",
      "CHAPITRE PRE\n"
     ]
    }
   ],
   "source": [
    "print(text[:100])"
   ]
  },
  {
   "cell_type": "code",
   "execution_count": 6,
   "metadata": {},
   "outputs": [
    {
     "name": "stdout",
     "output_type": "stream",
     "text": [
      "JULES VERN\n",
      "\n",
      "\n",
      "CINQ SEMAI\n",
      "\n",
      "\n",
      "VOYAGE DE \n",
      "\n",
      "\n",
      "\n",
      "\n",
      "CHAPITRE P\n",
      "\n",
      "\n",
      "\n",
      "\n",
      "La fin d'u\n",
      "\n",
      "\n",
      "\n",
      "\n",
      "\n",
      "\n",
      "\n",
      "\n",
      "   Il y av\n",
      "\t\n",
      "\n",
      "   Ce rare\n",
      "\n",
      "\n",
      "   « L'Ang\n"
     ]
    }
   ],
   "source": [
    "# Suite à la démo, j'ai modifié le code pour n'afficher que 20 lignes et éviter de charger le notebook\n",
    "f = open(\"demo-file-latin.txt\", \"r\")\n",
    "c = 0\n",
    "for line in f:\n",
    "    c += 1\n",
    "    print(line[:10])\n",
    "    if c == 20:\n",
    "        break\n",
    "f.close()"
   ]
  },
  {
   "cell_type": "code",
   "execution_count": 4,
   "metadata": {},
   "outputs": [
    {
     "name": "stdout",
     "output_type": "stream",
     "text": [
      "   Ils étaient là pourtan\n",
      "   Des toasts nombreux fu\n",
      "   Aussitôt mille encoura\n",
      "--Pourquoi ? répondit le \n",
      "--Non pas, mon cher Dick.\n",
      "   Un jour, après avoir r\n",
      "--Eh bien ! le voici. La \n",
      "--Enfin, reprit le docteu\n",
      "    Pendant les longues h\n",
      "   Il se trouvait alors à\n",
      "--Sans doute, mon cher Di\n",
      "   Le missionnaire était \n",
      "   Le docteur ne put rien\n",
      "--Volontiers. James Bruce\n",
      "--Oui, cette contrée est \n",
      "   Que de fois ses regard\n",
      "   « Je me croyais perdu,\n",
      "--Il y a longtemps, répon\n",
      "--C'est alors qu'un coura\n",
      "--D'ailleurs, si je ne me\n",
      "--Le voici. En 1854, un m\n"
     ]
    }
   ],
   "source": [
    "f = open(\"demo-file-latin.txt\", \"r\")\n",
    "for line in f:\n",
    "    if len(line) > 800:\n",
    "        print(line[:25])\n",
    "f.close()"
   ]
  },
  {
   "cell_type": "code",
   "execution_count": 43,
   "metadata": {},
   "outputs": [],
   "source": [
    "f = open(\"demo-file-latin.txt\", \"r\")\n",
    "ll = []\n",
    "for line in f:\n",
    "    ll.append(line.strip())\n",
    "f.close()"
   ]
  },
  {
   "cell_type": "code",
   "execution_count": 44,
   "metadata": {},
   "outputs": [
    {
     "name": "stdout",
     "output_type": "stream",
     "text": [
      "['JULES VERNE', '', 'CINQ SEMAINES EN BALLON', '', 'VOYAGE DE DÉCOUVERTES EN AFRIQUE PAR 3 ANGLAIS', '', '', 'CHAPITRE PREMIER', '', '']\n"
     ]
    }
   ],
   "source": [
    "print(ll[:10])"
   ]
  },
  {
   "cell_type": "code",
   "execution_count": 45,
   "metadata": {},
   "outputs": [],
   "source": [
    "f = open(\"demo-file-latin.txt\", \"r\")\n",
    "lm = []\n",
    "for line in f:\n",
    "    lm.extend(line.strip().split())\n",
    "f.close()"
   ]
  },
  {
   "cell_type": "code",
   "execution_count": 46,
   "metadata": {},
   "outputs": [
    {
     "name": "stdout",
     "output_type": "stream",
     "text": [
      "['JULES', 'VERNE', 'CINQ', 'SEMAINES', 'EN', 'BALLON', 'VOYAGE', 'DE', 'DÉCOUVERTES', 'EN', 'AFRIQUE', 'PAR', '3', 'ANGLAIS', 'CHAPITRE', 'PREMIER', 'La', 'fin', \"d'un\", 'discours', 'très', 'applaudi.--Présentation', 'du', 'docteur', 'Samuel']\n"
     ]
    }
   ],
   "source": [
    "print(lm[:25])"
   ]
  },
  {
   "cell_type": "code",
   "execution_count": null,
   "metadata": {},
   "outputs": [],
   "source": []
  }
 ],
 "metadata": {
  "kernelspec": {
   "display_name": "Python 3",
   "language": "python",
   "name": "python3"
  },
  "language_info": {
   "codemirror_mode": {
    "name": "ipython",
    "version": 3
   },
   "file_extension": ".py",
   "mimetype": "text/x-python",
   "name": "python",
   "nbconvert_exporter": "python",
   "pygments_lexer": "ipython3",
   "version": "3.7.9"
  }
 },
 "nbformat": 4,
 "nbformat_minor": 2
}
