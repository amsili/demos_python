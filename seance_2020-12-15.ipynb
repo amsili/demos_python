{
 "cells": [
  {
   "cell_type": "markdown",
   "metadata": {},
   "source": [
    "Programme séance du 15 décembre: \n",
    "\n",
    "* Exercices chaînes \n",
    "* Manipulation de fichiers texte\n",
    "* Exercices "
   ]
  },
  {
   "cell_type": "code",
   "execution_count": null,
   "metadata": {},
   "outputs": [],
   "source": [
    "# Fonctions prédéfinies pour chaînes de caractères: split(), strip(), join()"
   ]
  },
  {
   "cell_type": "code",
   "execution_count": 3,
   "metadata": {},
   "outputs": [
    {
     "name": "stdout",
     "output_type": "stream",
     "text": [
      "maison\n",
      "['m', 'a', 'i', 's', 'o', 'n']\n"
     ]
    }
   ],
   "source": [
    "t = \"maison\"\n",
    "tl = list(t)\n",
    "print(t)\n",
    "print(tl)"
   ]
  },
  {
   "cell_type": "code",
   "execution_count": 4,
   "metadata": {},
   "outputs": [
    {
     "name": "stdout",
     "output_type": "stream",
     "text": [
      "maison\n"
     ]
    }
   ],
   "source": [
    "news = \"\"\n",
    "for lettre in tl:\n",
    "    news += lettre\n",
    "print(news)"
   ]
  },
  {
   "cell_type": "code",
   "execution_count": 5,
   "metadata": {},
   "outputs": [
    {
     "name": "stdout",
     "output_type": "stream",
     "text": [
      "m*a*i*s*o*n\n"
     ]
    }
   ],
   "source": [
    "x = \"*\".join(tl)\n",
    "print(x)"
   ]
  },
  {
   "cell_type": "code",
   "execution_count": 6,
   "metadata": {},
   "outputs": [
    {
     "name": "stdout",
     "output_type": "stream",
     "text": [
      "maison\n"
     ]
    }
   ],
   "source": [
    "y = \"\".join(tl)\n",
    "print(y)"
   ]
  },
  {
   "cell_type": "code",
   "execution_count": 7,
   "metadata": {},
   "outputs": [
    {
     "name": "stdout",
     "output_type": "stream",
     "text": [
      "['voy', 'ge']\n"
     ]
    }
   ],
   "source": [
    "z = \"voyage\".split('a')\n",
    "print(z)"
   ]
  },
  {
   "cell_type": "code",
   "execution_count": 11,
   "metadata": {},
   "outputs": [
    {
     "name": "stdout",
     "output_type": "stream",
     "text": [
      "['la tribu prophétique ', 'x prunelles ardentes']\n"
     ]
    }
   ],
   "source": [
    "b = \"la tribu prophétique aux prunelles ardentes\"\n",
    "bl = b.split('au')\n",
    "print(bl)"
   ]
  },
  {
   "cell_type": "code",
   "execution_count": 16,
   "metadata": {},
   "outputs": [
    {
     "name": "stdout",
     "output_type": "stream",
     "text": [
      " tribu prophétique aux prunelles ardentes\n"
     ]
    }
   ],
   "source": [
    "a = b.strip('la')\n",
    "print(a)"
   ]
  },
  {
   "cell_type": "code",
   "execution_count": null,
   "metadata": {},
   "outputs": [],
   "source": [
    "# Exercice : Soit la chaine t ci-dessous. \n",
    "# Donner la liste des caractères qui la composent, et la liste des mots qui la composent ; \n",
    "# puis triez ces listes\n",
    "t = \"je suis un cimetière abhoré de la lune\""
   ]
  },
  {
   "cell_type": "code",
   "execution_count": 1,
   "metadata": {},
   "outputs": [],
   "source": [
    "f = open(\"demo-file-latin.txt\", \"r\")\n",
    "text = f.read()\n",
    "f.close()"
   ]
  }
 ],
 "metadata": {
  "kernelspec": {
   "display_name": "Python 3",
   "language": "python",
   "name": "python3"
  },
  "language_info": {
   "codemirror_mode": {
    "name": "ipython",
    "version": 3
   },
   "file_extension": ".py",
   "mimetype": "text/x-python",
   "name": "python",
   "nbconvert_exporter": "python",
   "pygments_lexer": "ipython3",
   "version": "3.8.6"
  }
 },
 "nbformat": 4,
 "nbformat_minor": 2
}
